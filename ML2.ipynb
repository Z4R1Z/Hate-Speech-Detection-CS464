{
 "cells": [
  {
   "cell_type": "code",
   "execution_count": 1,
   "metadata": {},
   "outputs": [
    {
     "name": "stderr",
     "output_type": "stream",
     "text": [
      "[nltk_data] Downloading package punkt to\n",
      "[nltk_data]     C:\\Users\\larao\\AppData\\Roaming\\nltk_data...\n",
      "[nltk_data]   Package punkt is already up-to-date!\n",
      "[nltk_data] Downloading package wordnet to\n",
      "[nltk_data]     C:\\Users\\larao\\AppData\\Roaming\\nltk_data...\n",
      "[nltk_data]   Package wordnet is already up-to-date!\n",
      "[nltk_data] Downloading package omw-1.4 to\n",
      "[nltk_data]     C:\\Users\\larao\\AppData\\Roaming\\nltk_data...\n",
      "[nltk_data]   Package omw-1.4 is already up-to-date!\n",
      "[nltk_data] Downloading package averaged_perceptron_tagger to\n",
      "[nltk_data]     C:\\Users\\larao\\AppData\\Roaming\\nltk_data...\n",
      "[nltk_data]   Package averaged_perceptron_tagger is already up-to-\n",
      "[nltk_data]       date!\n",
      "[nltk_data] Downloading package stopwords to\n",
      "[nltk_data]     C:\\Users\\larao\\AppData\\Roaming\\nltk_data...\n",
      "[nltk_data]   Package stopwords is already up-to-date!\n"
     ]
    },
    {
     "data": {
      "text/plain": [
       "True"
      ]
     },
     "execution_count": 1,
     "metadata": {},
     "output_type": "execute_result"
    }
   ],
   "source": [
    "from tkinter import W\n",
    "from trace import Trace\n",
    "import pandas as pd\n",
    "import numpy as np\n",
    "import nltk\n",
    "import pickle\n",
    "import csv\n",
    "import matplotlib.pyplot as plt\n",
    "#nltk.download()\n",
    "\n",
    "from nltk.tokenize import word_tokenize\n",
    "from nltk import pos_tag\n",
    "from nltk.corpus import stopwords\n",
    "from nltk.stem import WordNetLemmatizer\n",
    "from sklearn.preprocessing import LabelEncoder\n",
    "from collections import defaultdict\n",
    "from nltk.corpus import wordnet as wn\n",
    "from sklearn.feature_extraction.text import TfidfVectorizer\n",
    "from sklearn import model_selection, naive_bayes, svm\n",
    "from sklearn.ensemble import RandomForestClassifier as rfc\n",
    "from sklearn.metrics import precision_score, accuracy_score, f1_score, confusion_matrix, recall_score\n",
    "\n",
    "nltk.download('punkt')\n",
    "nltk.download('wordnet')\n",
    "nltk.download('omw-1.4')\n",
    "nltk.download('averaged_perceptron_tagger')\n",
    "nltk.download('stopwords')"
   ]
  },
  {
   "cell_type": "code",
   "execution_count": 2,
   "metadata": {},
   "outputs": [],
   "source": [
    "import seaborn as sns\n",
    "import matplotlib.pyplot as plt"
   ]
  },
  {
   "cell_type": "code",
   "execution_count": 3,
   "metadata": {},
   "outputs": [],
   "source": [
    "import pickle\n",
    "hate_data, hate_labels = [], [] \n",
    "with open(\"dataset/hate_dataset\", \"rb\") as fp:     \n",
    "    hate_data= pickle.load(fp)\n",
    "with open(\"dataset/hate_labels\", \"rb\") as fp:     \n",
    "    hate_labels= pickle.load(fp)\n",
    "\n",
    "#print(hate_data)\n"
   ]
  },
  {
   "cell_type": "code",
   "execution_count": 4,
   "metadata": {},
   "outputs": [],
   "source": [
    "hate_data = pd.DataFrame(hate_data)\n",
    "\n",
    "hate_data[0].dropna(inplace=True)\n",
    "hate_data[0] = [entry.lower() for entry in hate_data[0]] # all lowercase\n",
    "hate_data[0]= [word_tokenize(entry) for entry in hate_data[0]] # tokenization\n",
    "tag_map = defaultdict(lambda : wn.NOUN)\n",
    "tag_map['J'] = wn.ADJ #seperate adjectives\n",
    "tag_map['V'] = wn.VERB #seperate verbs\n",
    "tag_map['R'] = wn.ADV #seperate adverbs"
   ]
  },
  {
   "cell_type": "code",
   "execution_count": 5,
   "metadata": {},
   "outputs": [
    {
     "name": "stdout",
     "output_type": "stream",
     "text": [
      "Finished preprocessing\n"
     ]
    }
   ],
   "source": [
    "for index,entry in enumerate(hate_data[0]):\n",
    "    # Declaring Empty List to store the words that follow the rules for this step\n",
    "    Final_words = []\n",
    "    # Initializing WordNetLemmatizer()\n",
    "    word_Lemmatized = WordNetLemmatizer()\n",
    "    # pos_tag function below will provide the 'tag' i.e if the word is Noun(N) or Verb(V) or something else.\n",
    "    for word, tag in pos_tag(entry):\n",
    "        # Below condition is to check for Stop words and consider only alphabets\n",
    "        if word not in stopwords.words('english') and word.isalpha():\n",
    "            word_Final = word_Lemmatized.lemmatize(word,tag_map[tag[0]])\n",
    "            Final_words.append(word_Final)\n",
    "    # The final processed set of words for each iteration will be stored in 'text_final'\n",
    "    hate_data.loc[index,'text_final'] = str(Final_words)\n",
    "    \n",
    "print(\"Finished preprocessing\")\n",
    "    "
   ]
  },
  {
   "cell_type": "code",
   "execution_count": 6,
   "metadata": {},
   "outputs": [],
   "source": [
    "hate_labels = pd.DataFrame(hate_labels)"
   ]
  },
  {
   "cell_type": "code",
   "execution_count": 7,
   "metadata": {},
   "outputs": [
    {
     "name": "stdout",
     "output_type": "stream",
     "text": [
      "(18770,)\n",
      "(2682,)\n",
      "(5363,)\n"
     ]
    }
   ],
   "source": [
    "Train_X, Data_X, Train_Y, Data_Y = model_selection.train_test_split(hate_data['text_final'],hate_labels[0],test_size=0.3)\n",
    "Test_X, Val_X, Test_Y, Val_Y = model_selection.train_test_split(Data_X,Data_Y,test_size=1/3)\n",
    "Encoder = LabelEncoder()\n",
    "Train_Y = Encoder.fit_transform(Train_Y)\n",
    "Val_Y = Encoder.fit_transform(Val_Y)\n",
    "Test_Y = Encoder.fit_transform(Test_Y)\n",
    "print(Train_X.shape)\n",
    "print(Val_Y.shape)\n",
    "print(Test_Y.shape)"
   ]
  },
  {
   "cell_type": "code",
   "execution_count": 8,
   "metadata": {},
   "outputs": [
    {
     "name": "stdout",
     "output_type": "stream",
     "text": [
      "(18770, 5000)\n"
     ]
    }
   ],
   "source": [
    "Tfidf_vect = TfidfVectorizer(max_features=5000)\n",
    "Tfidf_vect.fit(hate_data['text_final'])\n",
    "Train_X_Tfidf = Tfidf_vect.transform(Train_X)\n",
    "Val_X_Tfidf = Tfidf_vect.transform(Val_X)\n",
    "Test_X_Tfidf = Tfidf_vect.transform(Test_X)\n",
    "print(Train_X_Tfidf.shape)"
   ]
  },
  {
   "cell_type": "code",
   "execution_count": 9,
   "metadata": {},
   "outputs": [],
   "source": [
    "def conf_matrix_table(cf_matrix):\n",
    "    group_names = ['TN','FP','FN','TP']\n",
    "    group_percentages = ['{0:.2%}'.format(value) for value in cf_matrix.flatten()/np.sum(cf_matrix)]\n",
    "    labels = [f'{v1}\\n{v2}\\n{v3}' for v1, v2, v3 in zip(group_names, cf_matrix.flatten(), group_percentages)]\n",
    "    labels = np.asarray(labels).reshape(2,2)\n",
    "    sns.heatmap(cf_matrix, annot=labels, fmt=\"\", cmap='Blues')\n",
    "    plt.show()"
   ]
  },
  {
   "cell_type": "code",
   "execution_count": 10,
   "metadata": {},
   "outputs": [
    {
     "name": "stdout",
     "output_type": "stream",
     "text": [
      "Naive Bayes Accuracy Score ->  80.98434004474274  alpha =  0.001\n",
      "Naive Bayes Accuracy Score ->  81.3944817300522  alpha =  0.01\n",
      "Naive Bayes Accuracy Score ->  81.73005219985086  alpha =  0.1\n",
      "Naive Bayes Accuracy Score ->  81.20805369127517  alpha =  1\n",
      "Naive Bayes Accuracy Score ->  67.37509321401939  alpha =  10\n"
     ]
    },
    {
     "data": {
      "image/png": "[encoded data removed]",
      "text/plain": [
       "<Figure size 432x288 with 1 Axes>"
      ]
     },
     "metadata": {
      "needs_background": "light"
     },
     "output_type": "display_data"
    },
    {
     "name": "stdout",
     "output_type": "stream",
     "text": [
      "Optimum alpha = 0.1  with accuracy score ->  81.73005219985086\n",
      "Naive Bayes Accuracy Score ->  81.98769345515569\n",
      "Precision ->  0.8067184758084733\n",
      "Recall ->  0.9428655142103721\n",
      "F1 Score ->  0.8694947311537423\n"
     ]
    },
    {
     "data": {
      "image/png": "[encoded data removed]",
      "text/plain": [
       "<Figure size 432x288 with 2 Axes>"
      ]
     },
     "metadata": {
      "needs_background": "light"
     },
     "output_type": "display_data"
    },
    {
     "name": "stdout",
     "output_type": "stream",
     "text": [
      "True Positive 3218\n",
      "True Negative 1179\n",
      "False Positive 771\n",
      "False Negative 195\n",
      "NPV ->  0.8580786026200873\n",
      "FPR ->  0.3953846153846154\n",
      "FDR ->  0.1932815241915267\n"
     ]
    }
   ],
   "source": [
    "# fit the training dataset on the NB classifier\n",
    "alphas = [0.001, 0.01, 0.1, 1, 10]\n",
    "accuracy_scores = []\n",
    "for a in alphas:\n",
    "    Naive = naive_bayes.MultinomialNB(alpha=a)\n",
    "    Naive.fit(Train_X_Tfidf,Train_Y)\n",
    "    predictions_NB = Naive.predict(Val_X_Tfidf)\n",
    "    acc = accuracy_score(predictions_NB, Val_Y)*100\n",
    "    accuracy_scores.append(acc)\n",
    "    print(\"Naive Bayes Accuracy Score -> \", acc, \" alpha = \", a)\n",
    "\n",
    "#plot accuricies vs alphas\n",
    "plt.semilogx(alphas, accuracy_scores)\n",
    "plt.title(\"Accuracy vs Alpha\")\n",
    "plt.xlabel(\"Alpha Values\")\n",
    "plt.ylabel(\"Accuracy\")\n",
    "plt.show()\n",
    "\n",
    "#optimum parameter\n",
    "opt_i = np.argmax(accuracy_scores)\n",
    "print(\"Optimum alpha =\", alphas[opt_i], \" with accuracy score -> \", accuracy_scores[opt_i])\n",
    "\n",
    "#Test the model on test set with the optimum alpha\n",
    "Naive = naive_bayes.MultinomialNB(alpha=alphas[opt_i])\n",
    "Naive.fit(Train_X_Tfidf,Train_Y)\n",
    "predictions_NB = Naive.predict(Test_X_Tfidf)\n",
    "acc = accuracy_score(predictions_NB, Test_Y)*100\n",
    "\n",
    "print(\"Naive Bayes Accuracy Score -> \", acc)\n",
    "print(\"Precision -> \", precision_score(Test_Y, predictions_NB, average=\"binary\"))\n",
    "print(\"Recall -> \", recall_score(Test_Y, predictions_NB, average=\"binary\"))\n",
    "print(\"F1 Score -> \", f1_score(Test_Y, predictions_NB, average=\"binary\"))\n",
    "cm = confusion_matrix(Test_Y, predictions_NB, labels=[0, 1])\n",
    "conf_matrix_table(cm)\n",
    "tn, fp, fn, tp = confusion_matrix(list(Test_Y), list(predictions_NB), labels=[0, 1]).ravel()\n",
    "print('True Positive', tp)\n",
    "print('True Negative', tn)\n",
    "print('False Positive', fp)\n",
    "print('False Negative', fn)\n",
    "\n",
    "npv = tn / (tn+fn)\n",
    "print(\"NPV -> \", npv)\n",
    "fpr = fp / (fp+tn)\n",
    "print(\"FPR -> \", fpr)\n",
    "fdr = fp / (tp+fp)\n",
    "print(\"FDR -> \", fdr)"
   ]
  },
  {
   "cell_type": "code",
   "execution_count": 11,
   "metadata": {},
   "outputs": [
    {
     "name": "stdout",
     "output_type": "stream",
     "text": [
      "SVM Accuracy Score ->  90.84467648704083\n",
      "Precision ->  0.9361194029850747\n",
      "Recall ->  0.9188397304424261\n",
      "F1 Score ->  0.9273990832470798\n",
      "Confusion Matrix ->  [[1736  214]\n",
      " [ 277 3136]]\n",
      "True Positive 3136\n",
      "True Negative 1736\n",
      "False Positive 214\n",
      "False Negative 277\n",
      "NPV ->  0.862394436164928\n",
      "FPR ->  0.10974358974358975\n",
      "FDR ->  0.06388059701492538\n"
     ]
    }
   ],
   "source": [
    "#SVM\n",
    "#print(Train_Y.shape)\n",
    "# gamma = 2**-4, 2**-3, 2**-2, 2**-1, 2**0, 2**1\n",
    "# c = 10**-3, 10**-2, 10**-1, 10**0, 10**1\n",
    "SVM = svm.SVC(C=1.0, kernel='rbf', degree=3, gamma=2**1)\n",
    "SVM.fit(Train_X_Tfidf,Train_Y)\n",
    "predictions_SVM = SVM.predict(Test_X_Tfidf)\n",
    "print(\"SVM Accuracy Score -> \",accuracy_score(predictions_SVM, Test_Y)*100)\n",
    "print(\"Precision -> \", precision_score(Test_Y, predictions_SVM, average=\"binary\"))\n",
    "print(\"Recall -> \", recall_score(Test_Y, predictions_SVM, average=\"binary\"))\n",
    "print(\"F1 Score -> \", f1_score(Test_Y, predictions_SVM, average=\"binary\"))\n",
    "cm = confusion_matrix(Test_Y, predictions_SVM, labels=[0, 1])\n",
    "print(\"Confusion Matrix -> \", cm)\n",
    "\n",
    "tn, fp, fn, tp = confusion_matrix(list(Test_Y), list(predictions_SVM), labels=[0, 1]).ravel()\n",
    "print('True Positive', tp)\n",
    "print('True Negative', tn)\n",
    "print('False Positive', fp)\n",
    "print('False Negative', fn)\n",
    "\n",
    "npv = tn / (tn+fn)\n",
    "print(\"NPV -> \", npv)\n",
    "fpr = fp / (fp+tn)\n",
    "print(\"FPR -> \", fpr)\n",
    "fdr = fp / (tp+fp)\n",
    "print(\"FDR -> \", fdr)\n",
    "\n",
    "# filename = 'finalized_model.sav'\n",
    "# pickle.dump(predictions_SVM, open(filename, 'wb'))"
   ]
  },
  {
   "cell_type": "code",
   "execution_count": 12,
   "metadata": {},
   "outputs": [
    {
     "name": "stdout",
     "output_type": "stream",
     "text": [
      "Finished preprocessing\n",
      "                                  0                           text_final\n",
      "0  [trans, women, are, real, women]  ['trans', 'woman', 'real', 'woman']\n",
      "(1, 5000)\n",
      "[1]\n"
     ]
    }
   ],
   "source": [
    "sentence = \"trans women are real women\" #input(\"Please enter a sentence:\")\n",
    "hate_data2 = []\n",
    "hate_data2.append(sentence)\n",
    "\n",
    "hate_data2 = pd.DataFrame(hate_data2)\n",
    "\n",
    "hate_data2[0].dropna(inplace=True)\n",
    "hate_data2[0] = [entry.lower() for entry in hate_data2[0]] # all lowercase\n",
    "hate_data2[0]= [word_tokenize(entry) for entry in hate_data2[0]] # tokenization\n",
    "tag_map = defaultdict(lambda : wn.NOUN)\n",
    "tag_map['J'] = wn.ADJ #seperate adjectives\n",
    "tag_map['V'] = wn.VERB #seperate verbs\n",
    "tag_map['R'] = wn.ADV #seperate adverbs\n",
    "\n",
    "for index,entry in enumerate(hate_data2[0]):\n",
    "    # Declaring Empty List to store the words that follow the rules for this step\n",
    "    Final_words = []\n",
    "    # Initializing WordNetLemmatizer()\n",
    "    word_Lemmatized = WordNetLemmatizer()\n",
    "    # pos_tag function below will provide the 'tag' i.e if the word is Noun(N) or Verb(V) or something else.\n",
    "    for word, tag in pos_tag(entry):\n",
    "        # Below condition is to check for Stop words and consider only alphabets\n",
    "        if word not in stopwords.words('english') and word.isalpha():\n",
    "            word_Final = word_Lemmatized.lemmatize(word,tag_map[tag[0]])\n",
    "            Final_words.append(word_Final)\n",
    "    # The final processed set of words for each iteration will be stored in 'text_final'\n",
    "    hate_data2.loc[index,'text_final'] = str(Final_words)\n",
    "    \n",
    "print(\"Finished preprocessing\")\n",
    "\n",
    "print(hate_data2)\n",
    "\n",
    "Tfidf_vect = TfidfVectorizer(max_features=5000)\n",
    "Tfidf_vect.fit(hate_data['text_final'])\n",
    "Test_X_Tfidf = Tfidf_vect.transform(hate_data2['text_final'])\n",
    "print(Test_X_Tfidf.shape)\n",
    "predictions_SVM = SVM.predict(Test_X_Tfidf)\n",
    "print(predictions_SVM)"
   ]
  },
  {
   "cell_type": "code",
   "execution_count": 13,
   "metadata": {},
   "outputs": [
    {
     "name": "stdout",
     "output_type": "stream",
     "text": [
      "1\n",
      "2\n",
      "3\n",
      "4\n",
      "5\n",
      "6\n",
      "7\n",
      "8\n",
      "9\n",
      "10\n",
      "11\n",
      "12\n",
      "13\n",
      "14\n",
      "15\n",
      "16\n",
      "17\n",
      "18\n",
      "19\n",
      "20\n",
      "21\n",
      "22\n",
      "23\n",
      "24\n",
      "25\n",
      "26\n",
      "27\n",
      "28\n",
      "29\n",
      "30\n",
      "31\n",
      "32\n",
      "33\n",
      "34\n",
      "35\n",
      "36\n",
      "37\n",
      "38\n",
      "39\n",
      "40\n",
      "41\n",
      "42\n",
      "43\n",
      "44\n",
      "45\n",
      "46\n",
      "47\n",
      "48\n",
      "49\n",
      "50\n",
      "51\n",
      "52\n",
      "53\n",
      "54\n",
      "55\n",
      "56\n",
      "57\n",
      "58\n",
      "59\n",
      "60\n",
      "61\n",
      "62\n",
      "63\n",
      "64\n",
      "65\n",
      "66\n",
      "67\n",
      "68\n",
      "69\n",
      "70\n",
      "71\n",
      "72\n",
      "73\n",
      "74\n",
      "75\n",
      "76\n",
      "77\n",
      "78\n",
      "79\n",
      "80\n",
      "81\n",
      "82\n",
      "83\n",
      "84\n",
      "85\n",
      "86\n",
      "87\n",
      "88\n",
      "89\n",
      "90\n",
      "91\n",
      "92\n",
      "93\n"
     ]
    }
   ],
   "source": [
    "#RFC\n",
    "#RFC \n",
    "length = Train_X_Tfidf.shape[0]\n",
    "RFC_Val_Results = []\n",
    "epoch = 0\n",
    "#Loop through possible hyperparameters\n",
    "for i in range(100,301,100):\n",
    "    for j in range(2,303,10):\n",
    "        if j != 2:\n",
    "            j -=2\n",
    "        epoch += 1\n",
    "        print(epoch)\n",
    "        RFC = rfc(n_estimators = i,min_samples_split = j)\n",
    "        RFC.fit(Train_X_Tfidf,Train_Y)\n",
    "        predictions_RFC = RFC.predict(Val_X_Tfidf)\n",
    "        RFC_ACC = accuracy_score(predictions_RFC, Val_Y)*100\n",
    "        RFC_PRE = precision_score(predictions_RFC, Val_Y)*100\n",
    "        RFC_REC = recall_score(predictions_RFC, Val_Y)*100\n",
    "        RFC_F1 = f1_score(predictions_RFC, Val_Y)*100\n",
    "        RFC_Val_Results.append(([RFC],RFC_ACC,RFC_PRE,RFC_REC,RFC_F1))\n",
    "\n",
    "\n",
    "\n",
    "\n",
    "# print(\"SVM Accuracy Score -> \",accuracy_score(predictions_SVM, Test_Y)*100)\n",
    "# print(\"Precision -> \", precision_score(Test_Y, predictions_SVM, average=\"binary\"))\n",
    "# print(\"Recall -> \", recall_score(Test_Y, predictions_SVM, average=\"binary\"))\n",
    "# print(\"F1 Score -> \", f1_score(Test_Y, predictions_SVM, average=\"binary\"))\n",
    "# cm = confusion_matrix(Test_Y, predictions_SVM, labels=[0, 1])\n",
    "# print(\"Confusion Matrix -> \", cm)"
   ]
  },
  {
   "cell_type": "code",
   "execution_count": 17,
   "metadata": {},
   "outputs": [],
   "source": [
    "#Dominated models are removed\n",
    "# RFC_MAT = np.array(RFC_Results,dtype=object)\n",
    "# a = False\n",
    "# b = 0\n",
    "# while a:\n",
    "#     a = True\n",
    "#     for k in RFC_Results:\n",
    "#         for l in RFC_results:\n",
    "#             if (k[1:5] < l[1:5]) == [True,True,True,True]:\n",
    "#                 a = False\n",
    "#                 RFC_Results.pop(RFC_Results.index(k))\n",
    "#                 b += 1\n",
    "# print(b)\n",
    "\n",
    "# RFC_Val_Results = RFC_Results\n",
    "\n",
    "# RFC_Val_MAT = np.array(RFC_Val_Results,dtype=object)\n",
    "\n",
    "# idx = np.argpartition(RFC_Val_MAT[:,1], -5)[-5:]\n",
    "\n",
    "# print(RFC_Val_MAT[idx])"
   ]
  },
  {
   "cell_type": "code",
   "execution_count": 16,
   "metadata": {},
   "outputs": [],
   "source": [
    "# RFC_Test_Results[:,1]"
   ]
  },
  {
   "cell_type": "code",
   "execution_count": 15,
   "metadata": {},
   "outputs": [],
   "source": [
    "# #RFC Testing\n",
    "# RFC_Test_Results = []\n",
    "# for i in idx:\n",
    "#     i = int(i)\n",
    "#     RFC = RFC_Val_MAT[i][0][0]\n",
    "#     predictions_RFC = RFC.predict(Test_X_Tfidf)\n",
    "#     RFC_ACC = accuracy_score(predictions_RFC, Test_Y)*100\n",
    "#     RFC_PRE = precision_score(predictions_RFC, Test_Y)*100\n",
    "#     RFC_REC = recall_score(predictions_RFC, Test_Y)*100\n",
    "#     RFC_F1 = f1_score(predictions_RFC, Test_Y)*100\n",
    "#     RFC_Test_Results.append((predictions_RFC,RFC_ACC,RFC_PRE,RFC_REC,RFC_F1))\n",
    "#     print(\"\\nFor model:\"+ str(i))\n",
    "#     print(\"SVM Accuracy Score -> \",RFC_ACC)\n",
    "#     print(\"Precision -> \",RFC_PRE)\n",
    "#     print(\"Recall -> \",RFC_REC)\n",
    "#     print(\"F1 Score -> \",RFC_F1)\n",
    "#     cm = confusion_matrix(Test_Y, predictions_RFC, labels=[0, 1])\n",
    "#     print(\"Confusion Matrix -> \", cm)\n",
    "\n",
    "# RFC_Test_Mat = np.array(RFC_Test_Results,dtype=object)\n",
    "\n",
    "# x = [1,2,3,4,5]\n",
    "# plt.figure()\n",
    "# plt.title(\"RFC Accuracy\")\n",
    "# plt.plot(x,RFC_Val_MAT[idx,1],\"b\",label='RFC Validation')\n",
    "# plt.plot(x,RFC_Test_Mat[:,1],\"r\",label='RFC Test')\n",
    "\n",
    "# plt.figure()\n",
    "# plt.title(\"RFC Accuracy\")\n",
    "# plt.plot(x,RFC_Val_MAT[idx,2],\"b\",label='RFC Validation')\n",
    "# plt.plot(x,RFC_Test_Mat[:,2],\"r\",label='RFC Test')\n",
    "\n",
    "# plt.figure()\n",
    "# plt.title(\"RFC Recall\")\n",
    "# plt.plot(x,RFC_Val_MAT[idx,3],\"b\",label='RFC Validation')\n",
    "# plt.plot(x,RFC_Test_Mat[:,3],\"r\",label='RFC Test')\n",
    "\n",
    "# plt.figure()\n",
    "# plt.title(\"RFC F1\")\n",
    "# plt.plot(x,RFC_Val_MAT[idx,4],\"b\",label='RFC Validation')\n",
    "# plt.plot(x,RFC_Test_Mat[:,4],\"r\",label='RFC Test')\n"
   ]
  }
 ],
 "metadata": {
  "interpreter": {
   "hash": "6b983973e4b2eddb6a1259980c5adbbb21a3309d07ae6da115f3b5587041ea30"
  },
  "kernelspec": {
   "display_name": "Python 3.9.12 64-bit (system)",
   "language": "python",
   "name": "python3"
  },
  "language_info": {
   "codemirror_mode": {
    "name": "ipython",
    "version": 3
   },
   "file_extension": ".py",
   "mimetype": "text/x-python",
   "name": "python",
   "nbconvert_exporter": "python",
   "pygments_lexer": "ipython3",
   "version": "3.10.2"
  },
  "orig_nbformat": 4
 },
 "nbformat": 4,
 "nbformat_minor": 2
}
