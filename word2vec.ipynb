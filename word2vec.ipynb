{
  "nbformat": 4,
  "nbformat_minor": 0,
  "metadata": {
    "colab": {
      "name": "word2vec.ipynb",
      "provenance": []
    },
    "kernelspec": {
      "name": "python3",
      "display_name": "Python 3"
    },
    "language_info": {
      "name": "python"
    }
  },
  "cells": [
    {
      "cell_type": "code",
      "source": [
        "from google.colab import drive\n",
        "\n",
        "drive.mount('/content/drive', force_remount=True)"
      ],
      "metadata": {
        "colab": {
          "base_uri": "https://localhost:8080/"
        },
        "id": "C8YYW9nkwJTo",
        "outputId": "df34302d-57f2-44c7-a95b-442b5d2610f2"
      },
      "execution_count": 3,
      "outputs": [
        {
          "output_type": "stream",
          "name": "stdout",
          "text": [
            "Mounted at /content/drive\n"
          ]
        }
      ]
    },
    {
      "cell_type": "code",
      "source": [
        "from tkinter import W\n",
        "from trace import Trace\n",
        "import pandas as pd\n",
        "import numpy as np\n",
        "import nltk\n",
        "import pickle\n",
        "import csv\n",
        "import gensim\n",
        "from tensorflow import keras\n",
        "import gensim.downloader\n",
        "import seaborn as sns\n",
        "import matplotlib.pyplot as plt\n",
        "\n",
        "from nltk.tokenize import word_tokenize\n",
        "from nltk import pos_tag\n",
        "from nltk.corpus import stopwords\n",
        "from nltk.stem import WordNetLemmatizer\n",
        "from sklearn.preprocessing import LabelEncoder\n",
        "from collections import defaultdict\n",
        "from nltk.corpus import wordnet as wn\n",
        "from sklearn.feature_extraction.text import TfidfVectorizer\n",
        "from sklearn import model_selection, naive_bayes, svm\n",
        "from sklearn.ensemble import RandomForestClassifier\n",
        "from sklearn.metrics import accuracy_score\n",
        "from sklearn.pipeline import Pipeline\n",
        "from gensim.models import Word2Vec\n",
        "from gensim.test.utils import common_texts\n",
        "from gensim.sklearn_api import D2VTransformer\n",
        "from gensim.sklearn_api import W2VTransformer\n",
        "from sklearn.preprocessing import MinMaxScaler\n",
        "from sklearn.metrics import precision_score, accuracy_score, f1_score, confusion_matrix, recall_score"
      ],
      "metadata": {
        "id": "7b5q_1o-M-p7"
      },
      "execution_count": 58,
      "outputs": []
    },
    {
      "cell_type": "code",
      "source": [
        "nltk.download('stopwords')\n",
        "nltk.download('punkt')\n",
        "nltk.download('wordnet')\n",
        "nltk.download('averaged_perceptron_tagger')"
      ],
      "metadata": {
        "id": "LOC9FXMfNedM"
      },
      "execution_count": null,
      "outputs": []
    },
    {
      "cell_type": "code",
      "source": [
        "hate_data, hate_labels = [], [] \n",
        "with open(\"/content/drive/My Drive/Colab Notebooks/cs464/Project/dataset/hate_dataset\", \"rb\") as fp:     \n",
        "    hate_data= pickle.load(fp)\n",
        "with open(\"/content/drive/My Drive/Colab Notebooks/cs464/Project/dataset/hate_labels\", \"rb\") as fp:     \n",
        "    hate_labels= pickle.load(fp)"
      ],
      "metadata": {
        "id": "NlRnUtE0BsNk"
      },
      "execution_count": 40,
      "outputs": []
    },
    {
      "cell_type": "code",
      "source": [
        "#np.random.seed(500)\n",
        "#data = pd.read_csv(\"/content/drive/My Drive/Colab Notebooks/cs464/Project/train_E6oV3.csv\")\n",
        "data = pd.DataFrame(hate_data)\n",
        "labels = pd.DataFrame(hate_labels)\n",
        "\n",
        "data[0].dropna(inplace=True)\n",
        "data[0] = [entry.lower() for entry in data[0]] # all lowercase\n",
        "data[0]= [word_tokenize(entry) for entry in data[0]] # tokenization\n",
        "tag_map = defaultdict(lambda : wn.NOUN)\n",
        "tag_map['J'] = wn.ADJ #seperate adjectives\n",
        "tag_map['V'] = wn.VERB #seperate verbs\n",
        "tag_map['R'] = wn.ADV #seperate adverbs"
      ],
      "metadata": {
        "id": "jes9ZMrlNLsp"
      },
      "execution_count": 43,
      "outputs": []
    },
    {
      "cell_type": "code",
      "source": [
        "for index,entry in enumerate(data[0]):\n",
        "    # Declaring Empty List to store the words that follow the rules for this step\n",
        "    Final_words = []\n",
        "    # Initializing WordNetLemmatizer()\n",
        "    word_Lemmatized = WordNetLemmatizer()\n",
        "    # pos_tag function below will provide the 'tag' i.e if the word is Noun(N) or Verb(V) or something else.\n",
        "    for word, tag in pos_tag(entry):\n",
        "        # Below condition is to check for Stop words and consider only alphabets\n",
        "        if word not in stopwords.words('english') and word.isalpha():\n",
        "            word_Final = word_Lemmatized.lemmatize(word,tag_map[tag[0]])\n",
        "            Final_words.append(word_Final)\n",
        "    # The final processed set of words for each iteration will be stored in 'text_final'\n",
        "    data.loc[index,'text_final'] = str(Final_words)\n",
        "    \n",
        "print(\"Finished preprocessing\")"
      ],
      "metadata": {
        "colab": {
          "base_uri": "https://localhost:8080/"
        },
        "id": "alrK2bCfN5m-",
        "outputId": "a0014e9e-650d-46be-ee64-3b2199531d4c"
      },
      "execution_count": 44,
      "outputs": [
        {
          "output_type": "stream",
          "name": "stdout",
          "text": [
            "Finished preprocessing\n"
          ]
        }
      ]
    },
    {
      "cell_type": "code",
      "source": [
        "Train_X, Test_X, Train_Y, Test_Y = model_selection.train_test_split(data['text_final'],labels[0],test_size=0.3)\n",
        "Encoder = LabelEncoder()\n",
        "Train_Y = Encoder.fit_transform(Train_Y)\n",
        "Test_Y = Encoder.fit_transform(Test_Y)\n",
        "\n",
        "'''\n",
        "Tfidf_vect = TfidfVectorizer(max_features=5000)\n",
        "Tfidf_vect.fit(data['text_final'])\n",
        "Train_X_Tfidf = Tfidf_vect.transform(Train_X)\n",
        "Test_X_Tfidf = Tfidf_vect.transform(Test_X)\n",
        "'''"
      ],
      "metadata": {
        "id": "rSYeLyCBOrF9"
      },
      "execution_count": 45,
      "outputs": []
    },
    {
      "cell_type": "markdown",
      "source": [
        "#Train Doc2Vec"
      ],
      "metadata": {
        "id": "koTsjQPdUuVv"
      }
    },
    {
      "cell_type": "code",
      "source": [
        "import gensim\n",
        "import gensim.downloader as api\n",
        "dataset = api.load(\"text8\")\n",
        "data = [d for d in dataset]"
      ],
      "metadata": {
        "id": "dwTkO_MhRUdG"
      },
      "execution_count": null,
      "outputs": []
    },
    {
      "cell_type": "code",
      "source": [
        "def tagged_document(list_of_list_of_words):\n",
        "   for i, list_of_words in enumerate(list_of_list_of_words):\n",
        "      yield gensim.models.doc2vec.TaggedDocument(list_of_words, [i])\n",
        "data_for_training = list(tagged_document(data))"
      ],
      "metadata": {
        "id": "0CQL8syqRbyy"
      },
      "execution_count": null,
      "outputs": []
    },
    {
      "cell_type": "code",
      "source": [
        "model = gensim.models.doc2vec.Doc2Vec(vector_size=40, min_count=2, epochs=30)\n",
        "model.build_vocab(data_for_training)\n",
        "model.train(data_for_training, total_examples=model.corpus_count, epochs=model.epochs)"
      ],
      "metadata": {
        "id": "NJGuUMrXRf-t"
      },
      "execution_count": null,
      "outputs": []
    },
    {
      "cell_type": "code",
      "source": [
        "#model.save(\"/content/drive/My Drive/Colab Notebooks/cs464/Project/d2v.model\")"
      ],
      "metadata": {
        "id": "9nISJNjYSCQL"
      },
      "execution_count": null,
      "outputs": []
    },
    {
      "cell_type": "code",
      "source": [
        "Train_X_d2v = list(map(model.infer_vector, Train_X))\n",
        "Train_X_d2v[0]"
      ],
      "metadata": {
        "id": "twXUEb1cUs0Q"
      },
      "execution_count": null,
      "outputs": []
    },
    {
      "cell_type": "code",
      "source": [
        "#saved_model = gensim.models.doc2vec.Doc2Vec.load(\"/content/drive/My Drive/Colab Notebooks/cs464/Project/d2v.model\")"
      ],
      "metadata": {
        "id": "sB9PjptTfjmV"
      },
      "execution_count": 114,
      "outputs": []
    },
    {
      "cell_type": "code",
      "source": [
        "Text_X_d2v = list(map(model.infer_vector, Test_X))\n"
      ],
      "metadata": {
        "id": "H_MVtlNXWCZT"
      },
      "execution_count": null,
      "outputs": []
    },
    {
      "cell_type": "code",
      "source": [
        "scaler = MinMaxScaler()\n",
        "Train_X_d2v_scaled = scaler.fit_transform(Train_X_d2v)\n",
        "Test_X_d2v_scaled = scaler.fit_transform(Text_X_d2v)\n"
      ],
      "metadata": {
        "colab": {
          "base_uri": "https://localhost:8080/"
        },
        "id": "jdwnec3gYikS",
        "outputId": "cfeb645f-c2d6-4f14-8911-8cfd5fc12cd3"
      },
      "execution_count": null,
      "outputs": [
        {
          "output_type": "execute_result",
          "data": {
            "text/plain": [
              "0.0"
            ]
          },
          "metadata": {},
          "execution_count": 97
        }
      ]
    },
    {
      "cell_type": "markdown",
      "source": [
        "#Word2Vec"
      ],
      "metadata": {
        "id": "Uvhz_hV4Uzn8"
      }
    },
    {
      "cell_type": "code",
      "source": [
        "glove_vectors = gensim.downloader.load('glove-twitter-200'). # glove-twitter-25 "
      ],
      "metadata": {
        "colab": {
          "base_uri": "https://localhost:8080/"
        },
        "id": "04fQINjryF0g",
        "outputId": "8e087278-b2ee-411c-fa2d-61883e9af86f"
      },
      "execution_count": 30,
      "outputs": [
        {
          "output_type": "stream",
          "name": "stdout",
          "text": [
            "[==================================================] 100.0% 758.5/758.5MB downloaded\n"
          ]
        }
      ]
    },
    {
      "cell_type": "code",
      "source": [
        "glove_vectors.save('/content/drive/My Drive/Colab Notebooks/cs464/Project/w2v.model')"
      ],
      "metadata": {
        "id": "YBQzl2PP_8y0"
      },
      "execution_count": 33,
      "outputs": []
    },
    {
      "cell_type": "code",
      "source": [
        "#google_vectors = gensim.models.KeyedVectors.load_word2vec_format('/content/drive/My Drive/Colab Notebooks/cs464/Project/GoogleNews-vectors-negative300.bin', binary=True, limit=500000)"
      ],
      "metadata": {
        "id": "G86ZZdRT4qMJ"
      },
      "execution_count": 7,
      "outputs": []
    },
    {
      "cell_type": "code",
      "source": [
        "glove_vectors.wv.most_similar('king')"
      ],
      "metadata": {
        "id": "1dQMPZuF5TLg"
      },
      "execution_count": null,
      "outputs": []
    },
    {
      "cell_type": "code",
      "source": [
        "words = set(glove_vectors.wv.vocab.keys() )\n",
        "X_train_vect = np.array([np.array([glove_vectors.wv[i] for i in ls if i in words])\n",
        "                         for ls in Train_X])\n",
        "X_test_vect = np.array([np.array([glove_vectors.wv[i] for i in ls if i in words])\n",
        "                         for ls in Test_X])"
      ],
      "metadata": {
        "id": "1eaLS1FdzPPN"
      },
      "execution_count": null,
      "outputs": []
    },
    {
      "cell_type": "code",
      "source": [
        "X_train_vect_avg = []\n",
        "for v in X_train_vect:\n",
        "    if v.size:\n",
        "        X_train_vect_avg.append(v.mean(axis=0))\n",
        "    else:\n",
        "        X_train_vect_avg.append(np.zeros(100, dtype=float))\n",
        "        \n",
        "X_test_vect_avg = []\n",
        "for v in X_test_vect:\n",
        "    if v.size:\n",
        "        X_test_vect_avg.append(v.mean(axis=0))\n",
        "    else:\n",
        "        X_test_vect_avg.append(np.zeros(100, dtype=float))"
      ],
      "metadata": {
        "id": "R9DpziCB135_"
      },
      "execution_count": 65,
      "outputs": []
    },
    {
      "cell_type": "code",
      "source": [
        "## for naive bayes\n",
        "scaler = MinMaxScaler()\n",
        "X_train_vect_avg = scaler.fit_transform(X_train_vect_avg)\n",
        "X_test_vect_avg = scaler.fit_transform(X_test_vect_avg)"
      ],
      "metadata": {
        "id": "GBGBCcO2Ffz4"
      },
      "execution_count": 54,
      "outputs": []
    },
    {
      "cell_type": "markdown",
      "source": [
        "#MODELS"
      ],
      "metadata": {
        "id": "vcQ3LqoLzRHj"
      }
    },
    {
      "cell_type": "code",
      "source": [
        "def print_metrics(prediction):\n",
        "      print(\"Accuracy Score -> \",accuracy_score(prediction, Test_Y)*100)\n",
        "      print(\"Precision -> \", precision_score(Test_Y, prediction, average=\"binary\"))\n",
        "      print(\"Recall -> \", recall_score(Test_Y, prediction, average=\"binary\"))\n",
        "      print(\"F1 Score -> \", f1_score(Test_Y, prediction, average=\"binary\"))\n",
        "      cm = confusion_matrix(Test_Y, predictions_NB, labels=[0, 1])\n",
        "      group_names = ['TN','FP','FN','TP']\n",
        "      group_percentages = ['{0:.2%}'.format(value) for value in cm.flatten()/np.sum(cm)]\n",
        "      labels = [f'{v1}\\n{v2}\\n{v3}' for v1, v2, v3 in zip(group_names, cm.flatten(), group_percentages)]\n",
        "      labels = np.asarray(labels).reshape(2,2)\n",
        "      sns.heatmap(cm, annot=labels, fmt=\"\", cmap='Blues')\n",
        "      plt.show()"
      ],
      "metadata": {
        "id": "eJexDyDTIQr7"
      },
      "execution_count": 64,
      "outputs": []
    },
    {
      "cell_type": "code",
      "source": [
        "Naive = naive_bayes.MultinomialNB()\n",
        "\n",
        "Naive.fit(X_train_vect_avg,Train_Y)\n",
        "predictions_NB = Naive.predict(X_test_vect_avg)\n",
        "\n",
        "print_metrics(predictions_NB)\n"
      ],
      "metadata": {
        "colab": {
          "base_uri": "https://localhost:8080/",
          "height": 333
        },
        "id": "bS3yN5viOyNA",
        "outputId": "28c910eb-5f15-47ae-abbc-94725a8964a9"
      },
      "execution_count": 60,
      "outputs": [
        {
          "output_type": "stream",
          "name": "stdout",
          "text": [
            "SVM Accuracy Score ->  66.28962088253574\n",
            "Precision ->  0.6583557089886204\n",
            "Recall ->  0.9922913856234342\n",
            "F1 Score ->  0.7915449654112222\n"
          ]
        },
        {
          "output_type": "display_data",
          "data": {
            "text/plain": [
              "<Figure size 432x288 with 2 Axes>"
            ],
            "image/png": "[encoded data removed]"
          },
          "metadata": {
            "needs_background": "light"
          }
        }
      ]
    },
    {
      "cell_type": "code",
      "source": [
        "SVM = svm.SVC(C=1.0, kernel='linear', degree=3, gamma='auto')\n",
        "\n",
        "SVM.fit(X_train_vect_avg,Train_Y)\n",
        "predictions_SVM = SVM.predict(X_test_vect_avg)\n",
        "\n",
        "print_metrics(predictions_SVM)\n",
        "  "
      ],
      "metadata": {
        "colab": {
          "base_uri": "https://localhost:8080/",
          "height": 333
        },
        "id": "cefoIa0UjWGw",
        "outputId": "5dbcfb0b-9208-483c-f29c-e594164fbecb"
      },
      "execution_count": 67,
      "outputs": [
        {
          "output_type": "stream",
          "name": "stdout",
          "text": [
            "Accuracy Score ->  71.32380360472344\n",
            "Precision ->  0.710119568387285\n",
            "Recall ->  0.9385238003468876\n",
            "F1 Score ->  0.8085000415041089\n"
          ]
        },
        {
          "output_type": "display_data",
          "data": {
            "text/plain": [
              "<Figure size 432x288 with 2 Axes>"
            ],
            "image/png": "[encoded data removed]"
          },
          "metadata": {
            "needs_background": "light"
          }
        }
      ]
    },
    {
      "cell_type": "code",
      "source": [
        "RFC = RandomForestClassifier()\n",
        "RFC.fit(X_train_vect_avg, Train_Y)\n",
        "predictions_RFC = RFC.predict(X_test_vect_avg)\n",
        "\n",
        "print_metrics(predictions_RFC)"
      ],
      "metadata": {
        "colab": {
          "base_uri": "https://localhost:8080/",
          "height": 333
        },
        "id": "DBcTGHO_lfdc",
        "outputId": "6139c44d-603f-46e5-b8af-7d97b842e43e"
      },
      "execution_count": 66,
      "outputs": [
        {
          "output_type": "stream",
          "name": "stdout",
          "text": [
            "Accuracy Score ->  75.09011808576756\n",
            "Precision ->  0.7728285077951003\n",
            "Recall ->  0.8693389863172095\n",
            "F1 Score ->  0.8182477779793216\n"
          ]
        },
        {
          "output_type": "display_data",
          "data": {
            "text/plain": [
              "<Figure size 432x288 with 2 Axes>"
            ],
            "image/png": "[encoded data removed]"
          },
          "metadata": {
            "needs_background": "light"
          }
        }
      ]
    }
  ]
}