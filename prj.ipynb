{
 "cells": [
  {
   "cell_type": "code",
   "execution_count": 39,
   "metadata": {},
   "outputs": [],
   "source": [
    "import os \n",
    "import time\n",
    "import random\n",
    "import csv\n",
    "import pandas as pd\n",
    "\n",
    "import numpy as np\n",
    "from PIL import Image\n",
    "import matplotlib.pyplot as plt\n",
    "\n",
    "import torch\n",
    "import torch.nn as nn\n",
    "import torch.nn.functional as F\n",
    "import torchvision.models as models\n",
    "import torchvision.transforms as transforms\n",
    "from torch.utils.data import Dataset, DataLoader\n",
    "\n",
    "from sklearn.model_selection import train_test_split\n",
    "from sklearn.metrics import confusion_matrix, f1_score, precision_score, recall_score, accuracy_score\n",
    "from datasets import load_dataset\n",
    "from toxic_comment_collection import *\n",
    "\n",
    "#get_dataset('basile2019')    \n",
    "get_dataset('basile2019')\n"
   ]
  },
  {
   "cell_type": "code",
   "execution_count": 40,
   "metadata": {},
   "outputs": [
    {
     "name": "stdout",
     "output_type": "stream",
     "text": [
      "10000\n",
      "10000\n"
     ]
    }
   ],
   "source": [
    "pd.options.mode.chained_assignment = None\n",
    "basile_ = pd.read_csv(\"./files/basile2019/basile2019en.csv\", sep=\"\\t\")#.to_numpy()\n",
    "gibert_ = pd.read_csv(\"./files/gibert2018/gibert2018en.csv\", sep=\"\\t\")#.to_numpy()\n",
    "chung_ = pd.read_csv(\"./files/chung2019/chung2019.csv\", sep=\"\\t\")#.to_numpy()\n",
    "#print(chung_[0,1])\n",
    "#print(gibert_[0,1])\n",
    "del basile_['id']\n",
    "del gibert_['id']\n",
    "del chung_['id']\n",
    "\n",
    "basile_['labels'] = basile_['labels'].astype('|S40')\n",
    "basile_['labels'].loc[basile_['labels'] == b'[]'] = 0\n",
    "basile_['labels'].loc[basile_['labels'] != b'[]'] = 1\n",
    "basile_data = basile_['text'].to_list()\n",
    "basile_labels = basile_['labels'].to_list()\n",
    "print(len(basile_data))\n",
    "print(len(basile_labels))"
   ]
  },
  {
   "cell_type": "code",
   "execution_count": 55,
   "metadata": {},
   "outputs": [
    {
     "name": "stdout",
     "output_type": "stream",
     "text": [
      "0\n"
     ]
    }
   ],
   "source": [
    "gibert_['labels'] = gibert_['labels'].astype('|S40')\n",
    "gibert_.drop(gibert_.index[gibert_['labels'] == b\"['idk/skip']\"], inplace=True)\n",
    "gibert_.drop(gibert_.index[gibert_['labels'] == b\"['relation']\"], inplace=True)\n",
    "gibert_['labels'].loc[gibert_['labels'] == b\"['none']\"] = 0\n",
    "gibert_['labels'].loc[gibert_['labels'] == b\"['hate']\"] = 1\n",
    "gibert_['labels'].loc[gibert_['labels'] == b'0'] = 0\n",
    "gibert_['labels'].loc[gibert_['labels'] == b'1'] = 1\n",
    "gibert_data = gibert_['text'].to_list()\n",
    "gibert_labels = gibert_['labels'].to_list()\n",
    "print(gibert_['labels'][5000])\n",
    "#print(len(gibert_labels[gibert_labels['labels'] == 1]))\n",
    "\n",
    "\n",
    "chung_['labels'] = chung_['labels'].astype('|S40')\n",
    "chung_['labels'].loc[chung_['labels'] == b\"['hate', 'Islamophobia']\"] = 1\n",
    "chung_['labels'].loc[chung_['labels'] == b'0'] = 0\n",
    "chung_['labels'].loc[chung_['labels'] == b'1'] = 1\n",
    "chung_data = chung_['text'].to_list()\n",
    "chung_labels = chung_['labels'].to_list()\n",
    "#print(chung_['text'][3])\n",
    "#print(len(chung_labels))\n",
    "\n",
    "qian_ = pd.read_csv(\"./files/qian2019/qian2019en_reddit.csv\", sep=\"\\t\")\n",
    "del qian_['id']\n",
    "qian_['labels'] = qian_['labels'].astype('|S40')\n",
    "qian_.drop(qian_.index[qian_['labels'] == b'[]'], inplace=True)\n",
    "qian_['labels'].loc[qian_['labels'] == b\"['hate']\"] = 1\n",
    "qian_data = qian_['text'].to_list()\n",
    "qian_labels = qian_['labels'].to_list()\n",
    "#print(qian_['labels'][18])\n"
   ]
  },
  {
   "cell_type": "code",
   "execution_count": 34,
   "metadata": {},
   "outputs": [
    {
     "name": "stdout",
     "output_type": "stream",
     "text": [
      "26815\n",
      "26815\n",
      "                                                  text labels\n",
      "0    Hurray, saving us $$$ in so many ways @potus @...      1\n",
      "1    Why would young fighting age men be the vast m...      1\n",
      "2    @KamalaHarris Illegals Dump their Kids at the ...      1\n",
      "3    NY Times: 'Nearly All White' States Pose 'an A...      1\n",
      "4    Orban in Brussels: European leaders are ignori...      1\n",
      "..                                                 ...    ...\n",
      "851  These Bedouins treat women like beasts and cut...      1\n",
      "852  Una donna che accetta di vivere nascosta sotto...      1\n",
      "853  Una donna che permette di farsi coprire con un...      1\n",
      "854  In Italia non possiamo accogliere donne che de...      1\n",
      "855  A woman who accepts to live hidden under a vei...      1\n",
      "\n",
      "[26815 rows x 2 columns]\n"
     ]
    }
   ],
   "source": [
    "res_data = basile_data + chung_data + gibert_data + qian_data\n",
    "print(len(res_data))\n",
    "res_labels = basile_labels + chung_labels + gibert_labels + qian_labels\n",
    "print(len(res_labels))\n",
    "\n",
    "res = basile_.append([qian_, gibert_, chung_])\n",
    "print(res)\n",
    "\n",
    "import pickle\n",
    "with open(\"hate_dataset\", \"wb\") as fp:   #Pickling\n",
    "   pickle.dump(res_data, fp)\n",
    " \n",
    "with open(\"hate_labels\", \"wb\") as fp:   \n",
    "    pickle.dump(res_labels, fp)\n",
    "    \n",
    "with open(\"hate_total\", \"wb\") as fp:   \n",
    "    pickle.dump(res_labels, fp)"
   ]
  },
  {
   "cell_type": "code",
   "execution_count": 37,
   "metadata": {},
   "outputs": [
    {
     "data": {
      "text/html": [
       "<div>\n",
       "<style scoped>\n",
       "    .dataframe tbody tr th:only-of-type {\n",
       "        vertical-align: middle;\n",
       "    }\n",
       "\n",
       "    .dataframe tbody tr th {\n",
       "        vertical-align: top;\n",
       "    }\n",
       "\n",
       "    .dataframe thead th {\n",
       "        text-align: right;\n",
       "    }\n",
       "</style>\n",
       "<table border=\"1\" class=\"dataframe\">\n",
       "  <thead>\n",
       "    <tr style=\"text-align: right;\">\n",
       "      <th></th>\n",
       "      <th>text</th>\n",
       "      <th>labels</th>\n",
       "    </tr>\n",
       "  </thead>\n",
       "  <tbody>\n",
       "    <tr>\n",
       "      <th>0</th>\n",
       "      <td>Hurray, saving us $$$ in so many ways @potus @...</td>\n",
       "      <td>1</td>\n",
       "    </tr>\n",
       "    <tr>\n",
       "      <th>1</th>\n",
       "      <td>Why would young fighting age men be the vast m...</td>\n",
       "      <td>1</td>\n",
       "    </tr>\n",
       "    <tr>\n",
       "      <th>2</th>\n",
       "      <td>@KamalaHarris Illegals Dump their Kids at the ...</td>\n",
       "      <td>1</td>\n",
       "    </tr>\n",
       "    <tr>\n",
       "      <th>3</th>\n",
       "      <td>NY Times: 'Nearly All White' States Pose 'an A...</td>\n",
       "      <td>1</td>\n",
       "    </tr>\n",
       "    <tr>\n",
       "      <th>4</th>\n",
       "      <td>Orban in Brussels: European leaders are ignori...</td>\n",
       "      <td>1</td>\n",
       "    </tr>\n",
       "  </tbody>\n",
       "</table>\n",
       "</div>"
      ],
      "text/plain": [
       "                                                text labels\n",
       "0  Hurray, saving us $$$ in so many ways @potus @...      1\n",
       "1  Why would young fighting age men be the vast m...      1\n",
       "2  @KamalaHarris Illegals Dump their Kids at the ...      1\n",
       "3  NY Times: 'Nearly All White' States Pose 'an A...      1\n",
       "4  Orban in Brussels: European leaders are ignori...      1"
      ]
     },
     "execution_count": 37,
     "metadata": {},
     "output_type": "execute_result"
    }
   ],
   "source": [
    "res.to_csv('file_name.csv', index=False)\n",
    "res.head()"
   ]
  }
 ],
 "metadata": {
  "interpreter": {
   "hash": "d8a8c919bd6732bc823198b1f46ac0e8ccd3587ce249f818d866e9fc28155d7a"
  },
  "kernelspec": {
   "display_name": "Python 3.9.12 64-bit (windows store)",
   "language": "python",
   "name": "python3"
  },
  "language_info": {
   "codemirror_mode": {
    "name": "ipython",
    "version": 3
   },
   "file_extension": ".py",
   "mimetype": "text/x-python",
   "name": "python",
   "nbconvert_exporter": "python",
   "pygments_lexer": "ipython3",
   "version": "3.9.12"
  },
  "orig_nbformat": 4
 },
 "nbformat": 4,
 "nbformat_minor": 2
}
